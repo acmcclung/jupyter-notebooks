{
 "cells": [
  {
   "cell_type": "code",
   "execution_count": 1,
   "metadata": {},
   "outputs": [],
   "source": [
    "import qutip as qp\n",
    "import numpy as np\n",
    "import matplotlib.pyplot as plt\n",
    "% matplotlib inline"
   ]
  },
  {
   "cell_type": "markdown",
   "metadata": {},
   "source": [
    "# Jaynes-Cummings Hamiltonian"
   ]
  },
  {
   "cell_type": "markdown",
   "metadata": {},
   "source": [
    "$$\n",
    "\\hat{H} = \\hbar\\omega_\\text{c}\\hat{a}^\\dagger\\hat{a} \n",
    "+ \\hbar\\omega_a\\hat{\\sigma}^\\dagger\\hat{\\sigma} \n",
    "+ \\hbar g\\left(\n",
    "\\hat\\sigma^\\dagger\\otimes\\hat{a}\n",
    "+\\hat\\sigma\\otimes\\hat{a}^\\dagger\n",
    "\\right) + \\frac{\\hbar\\Omega}{2}\\left(\n",
    "\\hat{a}e^{-\\mathrm{i}\\omega_\\text{L}t}\n",
    "+\\hat{a}^\\dagger e^{\\mathrm{i}\\omega_\\text{L}t}\n",
    "\\right)\n",
    "$$\n",
    "where $\\omega_\\text{c}$ is the cavity's resonance frequency, $\\omega_\\text{a}$ is the atomic resonance frequency, $g$ is the coupling coefficient and $\\Omega$ the drive strength. Applying the correct unitary (it's probably $\\hat{U}=e^{\\mathrm{i}\\omega_\\text{L}(\\hat{a}^\\dagger \\hat{a}+\\hat{\\sigma}^\\dagger\\hat{\\sigma})t}$) will put our Hamiltonian in the frame co-rotating with the laser and remove explicit time dependence. It should end up being\n",
    "$$\n",
    "\\hat{H} = \\hbar\\Delta_\\text{c}\\hat{a}^\\dagger\\hat{a} \n",
    "+ \\hbar\\Delta_\\text{a}\\hat{\\sigma}^\\dagger\\hat{\\sigma} \n",
    "+ \\hbar g\\left(\n",
    "\\hat\\sigma^\\dagger\\otimes\\hat{a}\n",
    "+\\hat\\sigma\\otimes\\hat{a}^\\dagger\n",
    "\\right) + \\frac{\\hbar\\Omega}{2}\\left(\n",
    "\\hat{a}+\\hat{a}^\\dagger\n",
    "\\right)\n",
    "$$\n",
    "In the notes from Vuckovic's group they set $\\Delta_a\\to\\Delta_c+\\delta$, which makes sense; that way $\\Delta_c$ just describes tuning the laser drive."
   ]
  },
  {
   "cell_type": "markdown",
   "metadata": {},
   "source": [
    "First we need to specify the operators. Because $\\hat{a}$ and $\\hat{\\sigma}$ operate on different Hilbert spaces, our operators are tensor products, i.e., $\\hat{a}\\to\\hat{I}\\otimes\\hat{a}$ and $\\hat{\\sigma}\\to\\hat{\\sigma}\\otimes\\hat{I}$."
   ]
  },
  {
   "cell_type": "code",
   "execution_count": 2,
   "metadata": {},
   "outputs": [],
   "source": [
    "nphotons = 15\n",
    "a = qp.tensor(qp.qeye(2), qp.destroy(nphotons))\n",
    "sm = qp.tensor(qp.destroy(2), qp.qeye(nphotons))"
   ]
  },
  {
   "cell_type": "markdown",
   "metadata": {},
   "source": [
    "We also need to define our collapse operators. In the Vuckovic paper they assume the \"good emitter\" limit, i.e. $\\kappa\\gg\\gamma$, so we will similarly avoid defining $\\gamma$ here."
   ]
  },
  {
   "cell_type": "code",
   "execution_count": 16,
   "metadata": {},
   "outputs": [],
   "source": [
    "kappa = 1 # everything is referenced to this freq., but just to make that explicit.\n",
    "gamma = kappa/10\n",
    "c_op = [np.sqrt(kappa)*a, np.sqrt(gamma)*sm]"
   ]
  },
  {
   "cell_type": "markdown",
   "metadata": {},
   "source": [
    "Then we define some parameters for our Hamiltonian. It's maybe interesting to sweep the laser detuning, so I leave that free via a `lambda` function."
   ]
  },
  {
   "cell_type": "code",
   "execution_count": 26,
   "metadata": {},
   "outputs": [],
   "source": [
    "g = 0.6 * kappa\n",
    "delta = 3 * g\n",
    "Omega = 0.4*np.sqrt(kappa/2 + 2*np.imag(np.sqrt(g**2-(kappa/4+1j*delta/2)**2)))\n",
    "jchamiltonian = lambda det: (det*a.dag()*a               # cavity energy \n",
    "                             + (det+delta)*sm.dag()*sm   # atom energy\n",
    "                             + g*(sm.dag()*a+sm*a.dag()) # coupling\n",
    "                             + 0.5*Omega*(a+a.dag()))    # drive"
   ]
  },
  {
   "cell_type": "markdown",
   "metadata": {},
   "source": [
    "QuTiP allows us to calculate the steady-state Hamiltonian:"
   ]
  },
  {
   "cell_type": "code",
   "execution_count": 18,
   "metadata": {},
   "outputs": [],
   "source": [
    "rho_ss = lambda det: qp.steadystate(jchamiltonian(det), c_op)"
   ]
  },
  {
   "cell_type": "markdown",
   "metadata": {},
   "source": [
    "and thence expectation values, like"
   ]
  },
  {
   "cell_type": "code",
   "execution_count": 19,
   "metadata": {},
   "outputs": [
    {
     "data": {
      "image/png": "[encoded data removed]",
      "text/plain": [
       "<Figure size 432x288 with 1 Axes>"
      ]
     },
     "metadata": {},
     "output_type": "display_data"
    }
   ],
   "source": [
    "intensity = lambda det: qp.expect(a.dag()*a, rho_ss(det))\n",
    "\n",
    "detunings = np.arange(-6, 6, 0.05)\n",
    "intensities = np.vectorize(intensity)(detunings)\n",
    "\n",
    "plt.plot(detunings, intensities, \"k.--\")\n",
    "plt.grid()"
   ]
  },
  {
   "cell_type": "code",
   "execution_count": null,
   "metadata": {},
   "outputs": [],
   "source": []
  }
 ],
 "metadata": {
  "kernelspec": {
   "display_name": "Python (qutip)",
   "language": "python",
   "name": "qutip"
  },
  "language_info": {
   "codemirror_mode": {
    "name": "ipython",
    "version": 3
   },
   "file_extension": ".py",
   "mimetype": "text/x-python",
   "name": "python",
   "nbconvert_exporter": "python",
   "pygments_lexer": "ipython3",
   "version": "3.6.5"
  }
 },
 "nbformat": 4,
 "nbformat_minor": 2
}
